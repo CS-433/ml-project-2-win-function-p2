{
 "cells": [
  {
   "cell_type": "markdown",
   "metadata": {},
   "source": [
    "Load model first: requires to change \"model_path\" variable"
   ]
  },
  {
   "cell_type": "code",
   "execution_count": 2,
   "metadata": {},
   "outputs": [],
   "source": [
    "import torch\n",
    "import numpy as np\n",
    "from ultralytics import YOLO\n",
    "import os\n",
    "\n",
    "model_path = \"./best.pt\"\n",
    "model = YOLO(model_path)"
   ]
  },
  {
   "cell_type": "code",
   "execution_count": null,
   "metadata": {},
   "outputs": [],
   "source": [
    "import pandas as pd\n",
    "\n",
    "test_folder = \"./thorax_dataset/images/test/\"\n",
    "csv_file_name = \"thorax_only.csv\"\n",
    "df = pd.read_csv(csv_file_name)\n",
    "df.head()"
   ]
  },
  {
   "cell_type": "code",
   "execution_count": null,
   "metadata": {},
   "outputs": [],
   "source": [
    "# List all image file names inside the folder\n",
    "image_files = set(os.listdir(test_folder))\n",
    "\n",
    "# Filter the DataFrame to retain only rows with filenames in the folder\n",
    "filtered_df = df[df['ant'].isin(image_files)]\n",
    "filtered_df.head()"
   ]
  },
  {
   "cell_type": "markdown",
   "metadata": {},
   "source": [
    "Predict the landmarks locations present inside the test dataset"
   ]
  },
  {
   "cell_type": "code",
   "execution_count": null,
   "metadata": {},
   "outputs": [],
   "source": [
    "import os\n",
    "import matplotlib.pyplot as plt\n",
    "import matplotlib.image as mpimg\n",
    "import numpy as np\n",
    "\n",
    "ground_truth = filtered_df.iloc[:, 1:].to_numpy()\n",
    "# Nx4 Matrix to store the landmarks coordinates (each rows are [x_head, y_head, x_abdomen, y_abdomen])\n",
    "prediction_data = np.zeros((ground_truth.shape[0], 4))\n",
    "\n",
    "# Vector that contains 1 and 0 for ants images with detected and not detected landkmarks respectivelly \n",
    "is_detected_data = np.ones(ground_truth.shape[0])\n",
    "\n",
    "for i, img in enumerate(filtered_df.iloc[:, 0]):\n",
    "    path = test_folder + img\n",
    "\n",
    "    results = model.predict(path)\n",
    "    shape = results[0].keypoints.shape\n",
    "    if shape[1] == 0:\n",
    "        is_detected_data[i] = 0\n",
    "    else:\n",
    "        point1_pred = results[0].keypoints.xy[0][0].cpu().numpy()\n",
    "        point2_pred = results[0].keypoints.xy[0][1].cpu().numpy()\n",
    "        \n",
    "        prediction_data[i, 0:2] = point1_pred\n",
    "        prediction_data[i, 2:] = point2_pred"
   ]
  },
  {
   "cell_type": "markdown",
   "metadata": {},
   "source": [
    "In this cell below we compare the predictions of our finetuned model and the ground truth."
   ]
  },
  {
   "cell_type": "code",
   "execution_count": null,
   "metadata": {},
   "outputs": [],
   "source": [
    "def show_image_and_landmarks(index, path, prediction_data, ground_truth):    \n",
    "    img = mpimg.imread(path)\n",
    "\n",
    "    plt.imshow(img)\n",
    "    plt.axis('on')  # Turn on axes for reference\n",
    "\n",
    "    point1_pred = prediction_data[index, 0:2]\n",
    "    point2_pred = prediction_data[index, 2:]\n",
    "\n",
    "    point1_ground_thruth = ground_truth[index, 0:2]\n",
    "    point2_ground_thruth = ground_truth[index, 2:]\n",
    "\n",
    "    # Plot the points\n",
    "\n",
    "    plt.scatter(*point1_pred, color='red', marker='D',label=f'Point 1 pred: {point1_pred}')\n",
    "    plt.scatter(*point2_pred, color='red', label=f'Point 2 pred: {point2_pred}')\n",
    "\n",
    "    plt.scatter(*point1_ground_thruth, color='blue', marker='D',label=f'Point 1 truth: {point1_ground_thruth}')\n",
    "    plt.scatter(*point2_ground_thruth, color='blue', label=f'Point 2 truth: {point2_ground_thruth}')\n",
    "\n",
    "    # Add legend\n",
    "    plt.legend()\n",
    "\n",
    "    # Show the plot\n",
    "    plt.show()\n",
    "\n",
    "def compute_WL(data):\n",
    "    x1 = data[:,0]\n",
    "    y1 = data[:,1]\n",
    "\n",
    "    x2 = data[:,2]\n",
    "    y2 = data[:,3]\n",
    "\n",
    "    return ((x1-x2)**2 + (y1-y2)**2)**0.5\n",
    "\n",
    "pred  = prediction_data[is_detected_data == 1, :]\n",
    "GT  = ground_truth[is_detected_data == 1, :]\n",
    "\n",
    "#Matrix that contains the difference (in pixel) between the predicted and ground truth landmark\n",
    "difference_landmarks = pred-GT\n",
    "\n",
    "i = 1\n",
    "files = filtered_df.iloc[:, 0]\n",
    "show_image_and_landmarks(i, test_folder+str(files.iloc[i]), prediction_data, ground_truth)\n",
    "\n",
    "\n",
    "print(\"example landmark ant \" + str(files.iloc[i]))\n",
    "print(\"prediction:\")\n",
    "print(prediction_data[i,:])\n",
    "print(\"ground truth:\")\n",
    "print(GT[i,:])\n",
    "print(\"difference:\")\n",
    "d = prediction_data-ground_truth\n",
    "print(d[i,:])\n",
    "\n",
    "\n",
    "print(\"------------------------------------\")\n",
    "# Webber length\n",
    "WL_pred =  compute_WL(pred)\n",
    "WL_GT =  compute_WL(GT)\n",
    "\n",
    "percentage_error = abs(WL_GT-WL_pred)/WL_GT\n",
    "print(\"percentage of error Webber length:\")\n",
    "print(np.mean(percentage_error))\n",
    "\n",
    "head_dist_pred_GT = ((difference_landmarks[:,0])**2 + (difference_landmarks[:,1])**2)**0.5\n",
    "abdomen_dist_pred_GT = ((difference_landmarks[:,3])**2 + (difference_landmarks[:,0])**2)**0.5\n",
    "print(\"\")\n",
    "print(\"Average distance between predicted and true head landmark:\")\n",
    "print(np.mean(head_dist_pred_GT))\n",
    "print(\"Average distance (normalized by WL) between predicted and true head landmark:\")\n",
    "print(np.mean(abdomen_dist_pred_GT/WL_GT))\n",
    "print(\"\")\n",
    "\n",
    "print(\"Average distance between predicted and true abdomen landmark:\")\n",
    "print(np.mean(abdomen_dist_pred_GT))\n",
    "print(\"Average distance (normalized by WL) between predicted and true abdomen landmark:\")\n",
    "print(np.mean(head_dist_pred_GT/WL_GT))\n",
    "print(\"\")\n",
    "\n",
    "print(\"average signed bias (pred-GT) of coordinates:\")\n",
    "print(\"(x_head, y_head, x_abdomen, y_abdomean)\")\n",
    "print(np.mean(difference_landmarks, axis=0))\n",
    "\n",
    "\n",
    "\n",
    "print(\"average absolute bias of coordinates (x_head, y_head, x_abdomen, y_abdomean)\")\n",
    "print(np.mean(abs(difference_landmarks), axis=0))"
   ]
  },
  {
   "cell_type": "markdown",
   "metadata": {},
   "source": [
    "Plot results images"
   ]
  },
  {
   "cell_type": "code",
   "execution_count": null,
   "metadata": {},
   "outputs": [],
   "source": [
    "import os\n",
    "import matplotlib.pyplot as plt\n",
    "import matplotlib.image as mpimg\n",
    "import numpy as np\n",
    "\n",
    "max_iterations = 10\n",
    "\n",
    "for i, file_name in enumerate(files):\n",
    "    path = test_folder + file_name\n",
    "\n",
    "    results = model.predict(path)\n",
    "    shape = results[0].keypoints.shape\n",
    "    \n",
    "    img = mpimg.imread(path)\n",
    "\n",
    "    plt.imshow(img)\n",
    "    plt.axis('on')  # Turn on axes for reference\n",
    "\n",
    "    if is_detected_data[i] == 1: \n",
    "        point1_pred = prediction_data[i, 0:2]\n",
    "        point2_pred = prediction_data[i, 2:]\n",
    "\n",
    "        point1_ground_thruth = ground_truth[i, 0:2]\n",
    "        point2_ground_thruth = ground_truth[i, 2:]\n",
    "\n",
    "        # Plot the points\n",
    "\n",
    "        plt.scatter(*point1_pred, color='red', marker='D',label=f'Point 1 pred: {point1_pred}')\n",
    "        plt.scatter(*point2_pred, color='red', label=f'Point 2 pred: {point2_pred}')\n",
    "\n",
    "        plt.scatter(*point1_ground_thruth, color='blue', marker='D',label=f'Point 1 truth: {point1_ground_thruth}')\n",
    "        plt.scatter(*point2_ground_thruth, color='blue', label=f'Point 2 truth: {point2_ground_thruth}')\n",
    "\n",
    "        # Add legend\n",
    "        plt.legend()\n",
    "\n",
    "        # Show the plot\n",
    "    plt.show()\n",
    "    if (max_iterations == i + 1):\n",
    "        break\n"
   ]
  },
  {
   "cell_type": "markdown",
   "metadata": {},
   "source": [
    "# Heatmap generation"
   ]
  },
  {
   "cell_type": "code",
   "execution_count": 1,
   "metadata": {},
   "outputs": [
    {
     "name": "stdout",
     "output_type": "stream",
     "text": [
      "Ultralytics Solutions:  {'region': None, 'show_in': True, 'show_out': True, 'colormap': 2, 'up_angle': 145.0, 'down_angle': 90, 'kpts': [6, 8, 10], 'analytics_type': 'line', 'json_file': None, 'imw': 640, 'imh': 640, 'model': 'best.pt', 'view_img': True}\n",
      "\n",
      "0: 640x640 1 thorax, 12.6ms\n",
      "Speed: 3.0ms preprocess, 12.6ms inference, 306.1ms postprocess per image at shape (1, 3, 640, 640)\n",
      "Heatmap saved at: c:\\Users\\elyes\\Documents\\ml-project-2-win-function-p2\\heatmaps\\casent0217282_p_1.jpg\n"
     ]
    }
   ],
   "source": [
    "from utils import produce_heatmap\n",
    "\n",
    "produce_heatmap(\"best.pt\", \"./thorax_dataset/images/test/casent0217282_p_1.jpg\", \"casent0217282_p_1.jpg\", view_img=True)"
   ]
  },
  {
   "cell_type": "code",
   "execution_count": null,
   "metadata": {},
   "outputs": [],
   "source": []
  }
 ],
 "metadata": {
  "kernelspec": {
   "display_name": "Python 3",
   "language": "python",
   "name": "python3"
  },
  "language_info": {
   "codemirror_mode": {
    "name": "ipython",
    "version": 3
   },
   "file_extension": ".py",
   "mimetype": "text/x-python",
   "name": "python",
   "nbconvert_exporter": "python",
   "pygments_lexer": "ipython3",
   "version": "3.11.9"
  }
 },
 "nbformat": 4,
 "nbformat_minor": 2
}
