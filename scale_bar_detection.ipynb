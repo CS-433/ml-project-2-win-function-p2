{
 "cells": [
  {
   "cell_type": "markdown",
   "metadata": {},
   "source": [
    "# Scale bar detection using an image processing algorithm"
   ]
  },
  {
   "cell_type": "code",
   "execution_count": 1,
   "metadata": {},
   "outputs": [],
   "source": [
    "import cv2\n",
    "import matplotlib.pyplot as plt\n",
    "import numpy as np\n",
    "from utils import detect_black_scale_bar"
   ]
  },
  {
   "cell_type": "code",
   "execution_count": 2,
   "metadata": {},
   "outputs": [],
   "source": [
    "images_folder = \"C:/Users/elyes/Documents/UNIL ants/EPFL/original/\""
   ]
  },
  {
   "cell_type": "code",
   "execution_count": 3,
   "metadata": {},
   "outputs": [
    {
     "name": "stdout",
     "output_type": "stream",
     "text": [
      "./resized_images\\anic32-900190-1_p_1.jpg\n"
     ]
    }
   ],
   "source": [
    "from utils import resize_image\n",
    "print(resize_image(images_folder + \"anic32-900190-1_p_1.jpg\", img_name=\"anic32-900190-1_p_1.jpg\"))"
   ]
  },
  {
   "cell_type": "code",
   "execution_count": 5,
   "metadata": {},
   "outputs": [
    {
     "name": "stdout",
     "output_type": "stream",
     "text": [
      "Scale bar not detected for image: ./resized_images\\anic32-900190-1_p_1.jpg\n",
      "Scale bar not detected for image: ./resized_images\\antweb1008066_p_1.jpg\n",
      "Scale bar not detected for image: ./resized_images\\antweb1038001_p_1.jpg\n",
      "Scale bar not detected for image: ./resized_images\\casent0005455_p_1.jpg\n",
      "Scale bar not detected for image: ./resized_images\\casent0005691_p_1.jpg\n",
      "Scale bar not detected for image: ./resized_images\\casent0005757_p_1.jpg\n",
      "Scale bar not detected for image: ./resized_images\\casent0059749_p_1.jpg\n",
      "Scale bar not detected for image: ./resized_images\\casent0062173_p_1.jpg\n",
      "Scale bar not detected for image: ./resized_images\\casent0066723_p_1.jpg\n",
      "Scale bar not detected for image: ./resized_images\\casent0102301_p_1.jpg\n",
      "Scale bar not detected for image: ./resized_images\\casent0102549_p_1.jpg\n",
      "Scale bar not detected for image: ./resized_images\\casent0102572_p_1.jpg\n",
      "Scale bar not detected for image: ./resized_images\\casent0103422_p_1.jpg\n",
      "Scale bar not detected for image: ./resized_images\\casent0103776_p_1.jpg\n",
      "Scale bar not detected for image: ./resized_images\\casent0103867_p_1.jpg\n",
      "Scale bar not detected for image: ./resized_images\\casent0104218_p_1.jpg\n",
      "Scale bar not detected for image: ./resized_images\\casent0104832_p_1.jpg\n",
      "Scale bar not detected for image: ./resized_images\\casent0106226_p_1.jpg\n",
      "Scale bar not detected for image: ./resized_images\\casent0172433_p_1.jpg\n",
      "Scale bar not detected for image: ./resized_images\\casent0172965_p_1.jpg\n",
      "Scale bar not detected for image: ./resized_images\\casent0173549_p_1.jpg\n",
      "Scale bar not detected for image: ./resized_images\\casent0173691_p_1.jpg\n",
      "Scale bar not detected for image: ./resized_images\\casent0178251_p_1.jpg\n",
      "Scale bar not detected for image: ./resized_images\\casent0178361_p_1.jpg\n",
      "Scale bar not detected for image: ./resized_images\\casent0178621_p_1.jpg\n",
      "Scale bar not detected for image: ./resized_images\\casent0179459_p_1.jpg\n",
      "Scale bar not detected for image: ./resized_images\\casent0179865_p_1.jpg\n",
      "Scale bar not detected for image: ./resized_images\\casent0193770_p_1.jpg\n",
      "Scale bar not detected for image: ./resized_images\\casent0217669_p_1.jpg\n",
      "Scale bar not detected for image: ./resized_images\\casent0217749_p_1.jpg\n",
      "Scale bar not detected for image: ./resized_images\\casent0249717_p_1.jpg\n",
      "Scale bar not detected for image: ./resized_images\\casent0257045_p_1.jpg\n",
      "Scale bar not detected for image: ./resized_images\\casent0270553_p_1.jpg\n",
      "Scale bar not detected for image: ./resized_images\\casent0280242_p_1.jpg\n",
      "Scale bar not detected for image: ./resized_images\\casent0280292_p_1.jpg\n",
      "Scale bar not detected for image: ./resized_images\\casent0281326_p_1.jpg\n",
      "Scale bar not detected for image: ./resized_images\\casent0281447_p_1.jpg\n",
      "Scale bar not detected for image: ./resized_images\\casent0281893_p_1.jpg\n",
      "Scale bar not detected for image: ./resized_images\\casent0410468_p_1.jpg\n",
      "Scale bar not detected for image: ./resized_images\\casent0616940_p_1.jpg\n",
      "Scale bar not detected for image: ./resized_images\\casent0619093_p_1.jpg\n",
      "Scale bar not detected for image: ./resized_images\\casent0622371_p_1.jpg\n",
      "Scale bar not detected for image: ./resized_images\\casent0780388_p_1.jpg\n",
      "Scale bar not detected for image: ./resized_images\\casent0902333_p_1.jpg\n",
      "Scale bar not detected for image: ./resized_images\\casent0902867_p_1.jpg\n",
      "Scale bar not detected for image: ./resized_images\\casent0906971_p_1.jpg\n",
      "Scale bar not detected for image: ./resized_images\\casent0910246_p_1.jpg\n",
      "Scale bar not detected for image: ./resized_images\\casent0914194_p_1.jpg\n",
      "Scale bar not detected for image: ./resized_images\\focol2542-2_p_1.jpg\n",
      "Scale bar not detected for image: ./resized_images\\antweb1008170_p_1.jpg\n",
      "Scale bar not detected for image: ./resized_images\\antweb1008173_p_1.jpg\n",
      "Scale bar not detected for image: ./resized_images\\antweb1008176_p_1.jpg\n",
      "Scale bar not detected for image: ./resized_images\\casent0003241_p_1.jpg\n",
      "Scale bar not detected for image: ./resized_images\\casent0005425_p_1.jpg\n",
      "Scale bar not detected for image: ./resized_images\\casent0005436_p_1.jpg\n",
      "Scale bar not detected for image: ./resized_images\\casent0005933_p_1.jpg\n",
      "Scale bar not detected for image: ./resized_images\\casent0103794_p_1.jpg\n",
      "Scale bar not detected for image: ./resized_images\\casent0105673_p_1.jpg\n",
      "Scale bar not detected for image: ./resized_images\\casent0106047_p_1.jpg\n",
      "Scale bar not detected for image: ./resized_images\\casent0171166_p_1.jpg\n",
      "Scale bar not detected for image: ./resized_images\\casent0173063_p_1.jpg\n",
      "Scale bar not detected for image: ./resized_images\\casent0173648_p_1.jpg\n",
      "Scale bar not detected for image: ./resized_images\\casent0178778_p_1.jpg\n",
      "Scale bar not detected for image: ./resized_images\\casent0178785_p_1.jpg\n",
      "Scale bar not detected for image: ./resized_images\\casent0192279_p_1.jpg\n",
      "Scale bar not detected for image: ./resized_images\\casent0217121_p_1.jpg\n",
      "Scale bar not detected for image: ./resized_images\\casent0217174_p_1.jpg\n",
      "Scale bar not detected for image: ./resized_images\\casent0217257_p_1.jpg\n",
      "Scale bar not detected for image: ./resized_images\\casent0217360_p_1.jpg\n",
      "Scale bar not detected for image: ./resized_images\\casent0217553_p_1.jpg\n",
      "Scale bar not detected for image: ./resized_images\\casent0217626_p_1.jpg\n",
      "Scale bar not detected for image: ./resized_images\\casent0217632_p_1.jpg\n",
      "Scale bar not detected for image: ./resized_images\\casent0249040_p_1.jpg\n",
      "Scale bar not detected for image: ./resized_images\\casent0280104_p_1.jpg\n",
      "Scale bar not detected for image: ./resized_images\\casent0280235_p_1.jpg\n",
      "Scale bar not detected for image: ./resized_images\\casent0280784_p_1.jpg\n",
      "Scale bar not detected for image: ./resized_images\\casent0281239_p_1.jpg\n",
      "Scale bar not detected for image: ./resized_images\\casent0281814_p_1.jpg\n",
      "Scale bar not detected for image: ./resized_images\\casent0606002_p_1.jpg\n",
      "Scale bar not detected for image: ./resized_images\\casent0637787_p_1.jpg\n",
      "Scale bar not detected for image: ./resized_images\\casent0813004_p_1.jpg\n",
      "Scale bar not detected for image: ./resized_images\\casent0824847_p_1.jpg\n",
      "Scale bar not detected for image: ./resized_images\\casent0887782_p_1.jpg\n",
      "Scale bar not detected for image: ./resized_images\\casent0900525_p_1.jpg\n",
      "Scale bar not detected for image: ./resized_images\\casent0900588_p_1.jpg\n",
      "Scale bar not detected for image: ./resized_images\\casent0901165_p_1.jpg\n",
      "Scale bar not detected for image: ./resized_images\\casent0901436_p_1.jpg\n",
      "Scale bar not detected for image: ./resized_images\\casent0902500_p_1.jpg\n",
      "Scale bar not detected for image: ./resized_images\\casent0903046_p_1.jpg\n",
      "Scale bar not detected for image: ./resized_images\\casent0904725_p_1.jpg\n",
      "Scale bar not detected for image: ./resized_images\\casent0905262_p_1.jpg\n",
      "Scale bar not detected for image: ./resized_images\\casent0905343_p_1.jpg\n",
      "Scale bar not detected for image: ./resized_images\\casent0906315_p_1.jpg\n",
      "Scale bar not detected for image: ./resized_images\\casent0907266_p_1.jpg\n",
      "Scale bar not detected for image: ./resized_images\\casent0908479_p_1.jpg\n"
     ]
    },
    {
     "ename": "KeyboardInterrupt",
     "evalue": "",
     "output_type": "error",
     "traceback": [
      "\u001b[1;31m---------------------------------------------------------------------------\u001b[0m",
      "\u001b[1;31mKeyboardInterrupt\u001b[0m                         Traceback (most recent call last)",
      "Cell \u001b[1;32mIn[5], line 2\u001b[0m\n\u001b[0;32m      1\u001b[0m \u001b[38;5;28;01mfrom\u001b[39;00m \u001b[38;5;21;01mutils\u001b[39;00m \u001b[38;5;28;01mimport\u001b[39;00m process_images_from_csv\n\u001b[1;32m----> 2\u001b[0m \u001b[43mprocess_images_from_csv\u001b[49m\u001b[43m(\u001b[49m\u001b[38;5;124;43m\"\u001b[39;49m\u001b[38;5;124;43mthorax_only.csv\u001b[39;49m\u001b[38;5;124;43m\"\u001b[39;49m\u001b[43m,\u001b[49m\u001b[43m \u001b[49m\u001b[38;5;124;43m\"\u001b[39;49m\u001b[38;5;124;43mannotations.csv\u001b[39;49m\u001b[38;5;124;43m\"\u001b[39;49m\u001b[43m,\u001b[49m\u001b[43m \u001b[49m\u001b[43mimages_folder\u001b[49m\u001b[43m)\u001b[49m\n",
      "File \u001b[1;32mc:\\Users\\elyes\\Documents\\ml-project-2-win-function-p2\\utils.py:438\u001b[0m, in \u001b[0;36mprocess_images_from_csv\u001b[1;34m(input_csv, output_csv, images_folder)\u001b[0m\n\u001b[0;32m    436\u001b[0m image_path \u001b[38;5;241m=\u001b[39m images_folder \u001b[38;5;241m+\u001b[39m row[\u001b[38;5;124m'\u001b[39m\u001b[38;5;124mant\u001b[39m\u001b[38;5;124m'\u001b[39m]\n\u001b[0;32m    437\u001b[0m image_path \u001b[38;5;241m=\u001b[39m resize_image(image_path, row[\u001b[38;5;124m\"\u001b[39m\u001b[38;5;124mant\u001b[39m\u001b[38;5;124m\"\u001b[39m])\n\u001b[1;32m--> 438\u001b[0m result \u001b[38;5;241m=\u001b[39m \u001b[43mdetect_black_scale_bar\u001b[49m\u001b[43m(\u001b[49m\u001b[43mimage_path\u001b[49m\u001b[43m)\u001b[49m\n\u001b[0;32m    440\u001b[0m \u001b[38;5;28;01mif\u001b[39;00m result:\n\u001b[0;32m    441\u001b[0m     start_point, end_point \u001b[38;5;241m=\u001b[39m result\n",
      "File \u001b[1;32mc:\\Users\\elyes\\Documents\\ml-project-2-win-function-p2\\utils.py:279\u001b[0m, in \u001b[0;36mdetect_black_scale_bar\u001b[1;34m(image_path)\u001b[0m\n\u001b[0;32m    267\u001b[0m \u001b[38;5;250m\u001b[39m\u001b[38;5;124;03m\"\"\"\u001b[39;00m\n\u001b[0;32m    268\u001b[0m \u001b[38;5;124;03mAssuming the image has dimension 640x640\u001b[39;00m\n\u001b[0;32m    269\u001b[0m \u001b[38;5;124;03mThe function detects the scale bar in an image, assuming it is a black, straight line,\u001b[39;00m\n\u001b[1;32m   (...)\u001b[0m\n\u001b[0;32m    276\u001b[0m \u001b[38;5;124;03m    tuple: Start and end points of the scale bar ((x1, y1), (x2, y2)) or None if not found.\u001b[39;00m\n\u001b[0;32m    277\u001b[0m \u001b[38;5;124;03m\"\"\"\u001b[39;00m\n\u001b[0;32m    278\u001b[0m \u001b[38;5;66;03m# Load the image and convert to grayscale\u001b[39;00m\n\u001b[1;32m--> 279\u001b[0m image \u001b[38;5;241m=\u001b[39m \u001b[43mcv2\u001b[49m\u001b[38;5;241;43m.\u001b[39;49m\u001b[43mimread\u001b[49m\u001b[43m(\u001b[49m\u001b[43mimage_path\u001b[49m\u001b[43m)\u001b[49m\n\u001b[0;32m    280\u001b[0m gray \u001b[38;5;241m=\u001b[39m cv2\u001b[38;5;241m.\u001b[39mcvtColor(image, cv2\u001b[38;5;241m.\u001b[39mCOLOR_BGR2GRAY)\n\u001b[0;32m    282\u001b[0m \u001b[38;5;66;03m# Focus on the region between pixel rows 550 and 640 where the scale bar is located\u001b[39;00m\n",
      "\u001b[1;31mKeyboardInterrupt\u001b[0m: "
     ]
    }
   ],
   "source": [
    "from utils import process_images_from_csv\n",
    "process_images_from_csv(\"thorax_only.csv\", \"annotations.csv\", images_folder)"
   ]
  },
  {
   "cell_type": "code",
   "execution_count": 9,
   "metadata": {},
   "outputs": [
    {
     "ename": "error",
     "evalue": "OpenCV(4.10.0) D:\\a\\opencv-python\\opencv-python\\opencv\\modules\\imgproc\\src\\color.cpp:196: error: (-215:Assertion failed) !_src.empty() in function 'cv::cvtColor'\n",
     "output_type": "error",
     "traceback": [
      "\u001b[1;31m---------------------------------------------------------------------------\u001b[0m",
      "\u001b[1;31merror\u001b[0m                                     Traceback (most recent call last)",
      "Cell \u001b[1;32mIn[9], line 22\u001b[0m\n\u001b[0;32m     19\u001b[0m \u001b[38;5;66;03m# the image is resized to match the 640x640 image dimensions\u001b[39;00m\n\u001b[0;32m     20\u001b[0m image_path \u001b[38;5;241m=\u001b[39m \u001b[38;5;124m\"\u001b[39m\u001b[38;5;124m./resized_images/\u001b[39m\u001b[38;5;124m\"\u001b[39m \u001b[38;5;241m+\u001b[39m row[\u001b[38;5;124m\"\u001b[39m\u001b[38;5;124mant\u001b[39m\u001b[38;5;124m\"\u001b[39m]  \u001b[38;5;66;03m# Replace with your image file path\u001b[39;00m\n\u001b[1;32m---> 22\u001b[0m \u001b[43mdraw_points_and_scale\u001b[49m\u001b[43m(\u001b[49m\u001b[43mimage_path\u001b[49m\u001b[43m,\u001b[49m\u001b[43m \u001b[49m\u001b[43mscale_bar_points\u001b[49m\u001b[43m,\u001b[49m\u001b[43m \u001b[49m\u001b[43mthorax_points\u001b[49m\u001b[43m)\u001b[49m\n",
      "File \u001b[1;32mc:\\Users\\elyes\\Documents\\ml-project-2-win-function-p2\\utils.py:360\u001b[0m, in \u001b[0;36mdraw_points_and_scale\u001b[1;34m(image_path, scale_bar_points, thorax_points)\u001b[0m\n\u001b[0;32m    358\u001b[0m \u001b[38;5;66;03m# Load the image\u001b[39;00m\n\u001b[0;32m    359\u001b[0m image \u001b[38;5;241m=\u001b[39m cv2\u001b[38;5;241m.\u001b[39mimread(image_path)\n\u001b[1;32m--> 360\u001b[0m image_rgb \u001b[38;5;241m=\u001b[39m \u001b[43mcv2\u001b[49m\u001b[38;5;241;43m.\u001b[39;49m\u001b[43mcvtColor\u001b[49m\u001b[43m(\u001b[49m\u001b[43mimage\u001b[49m\u001b[43m,\u001b[49m\u001b[43m \u001b[49m\u001b[43mcv2\u001b[49m\u001b[38;5;241;43m.\u001b[39;49m\u001b[43mCOLOR_BGR2RGB\u001b[49m\u001b[43m)\u001b[49m\n\u001b[0;32m    362\u001b[0m \u001b[38;5;66;03m# Draw the scale bar\u001b[39;00m\n\u001b[0;32m    363\u001b[0m \u001b[38;5;28;01mif\u001b[39;00m scale_bar_points:\n",
      "\u001b[1;31merror\u001b[0m: OpenCV(4.10.0) D:\\a\\opencv-python\\opencv-python\\opencv\\modules\\imgproc\\src\\color.cpp:196: error: (-215:Assertion failed) !_src.empty() in function 'cv::cvtColor'\n"
     ]
    }
   ],
   "source": [
    "from utils import draw_points_and_scale\n",
    "import pandas as pd\n",
    "import numpy as np\n",
    "\n",
    "# Define the coordinates (example points)\n",
    "df = pd.read_csv(\"annotations.csv\").dropna()\n",
    "row = df.iloc[np.random.randint(0, 1000)]\n",
    "x1, y1 = row[\"x1_lmk\"], row[\"y1_lmk\"]\n",
    "x2, y2 = row[\"x2_lmk\"], row[\"y2_lmk\"]\n",
    "x3, y3 = row[\"x1_bar\"], row[\"y1_bar\"]\n",
    "x4, y4 = row[\"x2_bar\"], row[\"y2_bar\"]\n",
    "\n",
    "# Scale bar positions ((start_x, start_y), (end_x, end_y))\n",
    "scale_bar_points = ((int(x3), int(y3)), (int(x4), int(y4)))  # Detected scale bar coordinates\n",
    "\n",
    "# Thorax positions ((start_x, start_y), (end_x, end_y)) - Approximate example\n",
    "thorax_points = ((int(x1), int(y1)), (int(x2), int(y2)))\n",
    "\n",
    "# the image is resized to match the 640x640 image dimensions\n",
    "image_path = \"./resized_images/\" + row[\"ant\"]  # Replace with your image file path\n",
    "\n",
    "draw_points_and_scale(image_path, scale_bar_points, thorax_points)"
   ]
  },
  {
   "cell_type": "code",
   "execution_count": null,
   "metadata": {},
   "outputs": [],
   "source": []
  }
 ],
 "metadata": {
  "kernelspec": {
   "display_name": "Python 3",
   "language": "python",
   "name": "python3"
  },
  "language_info": {
   "codemirror_mode": {
    "name": "ipython",
    "version": 3
   },
   "file_extension": ".py",
   "mimetype": "text/x-python",
   "name": "python",
   "nbconvert_exporter": "python",
   "pygments_lexer": "ipython3",
   "version": "3.11.9"
  }
 },
 "nbformat": 4,
 "nbformat_minor": 2
}
